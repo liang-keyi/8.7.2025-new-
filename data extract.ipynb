{
 "cells": [
  {
   "cell_type": "code",
   "execution_count": null,
   "id": "3d440785",
   "metadata": {
    "vscode": {
     "languageId": "plaintext"
    }
   },
   "outputs": [],
   "source": [
    "import re\n",
    "import csv\n",
    "\n",
    "# 提取湿度值\n",
    "humidity_values = []\n",
    "with open('40C40Hori.log', 'r') as file:\n",
    "    for line in file:\n",
    "        if ';%rh' in line:\n",
    "            match = re.search(r'(\\d+\\.\\d+);%rh', line)\n",
    "            if match:\n",
    "                humidity_values.append(match.group(1))\n",
    "\n",
    "# 输出到 CSV 文件\n",
    "output_file = 'hum40C40Hori.csv'\n",
    "with open(output_file, 'w', newline='', encoding='utf-8') as csvfile:\n",
    "    writer = csv.writer(csvfile)\n",
    "    writer.writerow(['Humidity'])  # 写入表头\n",
    "    for value in humidity_values:\n",
    "        writer.writerow([value])  # 每个湿度值写入一行\n",
    "\n",
    "print(f\"湿度值已保存到: {output_file}\")\n",
    "# print(\"提取的湿度值:\", humidity_values)"
   ]
  },
  {
   "cell_type": "code",
   "execution_count": null,
   "id": "b8e43af2",
   "metadata": {},
   "outputs": [],
   "source": []
  }
 ],
 "metadata": {
  "language_info": {
   "name": "python"
  }
 },
 "nbformat": 4,
 "nbformat_minor": 5
}
